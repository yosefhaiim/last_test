{
 "cells": [
  {
   "metadata": {},
   "cell_type": "code",
   "outputs": [],
   "execution_count": null,
   "source": [
    "# מה שאני רוצה לעשות כאן, זה לחקור את קובץ הדאטה בייס על מנת לנרמל אותו,\n",
    "# אני צריך להוציא את העמודות הרלוונטיות בשבילי בהן יהיה קבוצת טירוריסטים (gname).\n",
    "#רשימת השנים (iyear),. \n",
    "# סוגי התקפה (attack_types) הבעיה שיש כמה, רשמתי אותם ברשימה.\n",
    "# מיקום הפיגוע (נחפש).\n",
    "# כמות נפגעים(נחפש)."
   ],
   "id": "ee7990011a5d009b"
  },
  {
   "cell_type": "code",
   "id": "initial_id",
   "metadata": {
    "collapsed": true,
    "ExecuteTime": {
     "end_time": "2024-12-18T12:50:16.283603Z",
     "start_time": "2024-12-18T12:50:14.958508Z"
    }
   },
   "source": [
    "from itertools import count\n",
    "\n",
    "from select import select\n",
    "\n",
    "from load_data import *"
   ],
   "outputs": [],
   "execution_count": 2
  },
  {
   "metadata": {
    "ExecuteTime": {
     "end_time": "2024-12-18T12:57:13.986965Z",
     "start_time": "2024-12-18T12:57:13.980074Z"
    }
   },
   "cell_type": "code",
   "source": [
    "import numpy as np\n",
    "import pandas as pd"
   ],
   "id": "6c3d04dfa11e08fa",
   "outputs": [],
   "execution_count": 16
  },
  {
   "metadata": {
    "ExecuteTime": {
     "end_time": "2024-12-18T13:20:59.845401Z",
     "start_time": "2024-12-18T13:20:59.834579Z"
    }
   },
   "cell_type": "code",
   "source": "import datetime",
   "id": "c84101c8dcd80a00",
   "outputs": [],
   "execution_count": 40
  },
  {
   "metadata": {
    "ExecuteTime": {
     "end_time": "2024-12-18T14:36:17.469292Z",
     "start_time": "2024-12-18T14:36:17.353609Z"
    }
   },
   "cell_type": "code",
   "source": "years = global_terror['iyear']",
   "id": "dbf2a86b5f8d97a7",
   "outputs": [],
   "execution_count": 61
  },
  {
   "metadata": {
    "ExecuteTime": {
     "end_time": "2024-12-18T14:36:25.756945Z",
     "start_time": "2024-12-18T14:36:25.749901Z"
    }
   },
   "cell_type": "code",
   "source": "Terrorist_Groups = global_terror['gname']",
   "id": "ec380d83da8c9274",
   "outputs": [],
   "execution_count": null
  },
  {
   "metadata": {
    "ExecuteTime": {
     "end_time": "2024-12-18T14:00:01.281714Z",
     "start_time": "2024-12-18T14:00:01.258896Z"
    }
   },
   "cell_type": "code",
   "source": "Terrorist_Groups",
   "id": "22a4c1a256011f77",
   "outputs": [
    {
     "data": {
      "text/plain": [
       "0                                  MANO-D\n",
       "1      23rd of September Communist League\n",
       "2                                 Unknown\n",
       "3                                 Unknown\n",
       "4                                 Unknown\n",
       "                      ...                \n",
       "995                          Ku Klux Klan\n",
       "996                               Unknown\n",
       "997                               Unknown\n",
       "998                      White extremists\n",
       "999                      White extremists\n",
       "Name: gname, Length: 1000, dtype: object"
      ]
     },
     "execution_count": 60,
     "metadata": {},
     "output_type": "execute_result"
    }
   ],
   "execution_count": 60
  },
  {
   "metadata": {
    "ExecuteTime": {
     "end_time": "2024-12-18T14:55:19.457797Z",
     "start_time": "2024-12-18T14:55:19.452651Z"
    }
   },
   "cell_type": "code",
   "source": [
    "attack_type = \"attacktype1\tattacktype1_txt\tattacktype2\tattacktype2_txt\tattacktype3\tattacktype3_txt\"\n",
    "attack_type_list = attack_type.split()"
   ],
   "id": "de40b55ceb2e295f",
   "outputs": [],
   "execution_count": 66
  },
  {
   "metadata": {
    "ExecuteTime": {
     "end_time": "2024-12-18T14:56:00.350436Z",
     "start_time": "2024-12-18T14:56:00.336983Z"
    }
   },
   "cell_type": "code",
   "source": "len(attack_type_list)",
   "id": "c9e21d74c27eb64a",
   "outputs": [
    {
     "data": {
      "text/plain": [
       "6"
      ]
     },
     "execution_count": 69,
     "metadata": {},
     "output_type": "execute_result"
    }
   ],
   "execution_count": 69
  },
  {
   "metadata": {
    "ExecuteTime": {
     "end_time": "2024-12-18T15:00:09.708090Z",
     "start_time": "2024-12-18T15:00:09.638987Z"
    }
   },
   "cell_type": "code",
   "source": [
    "# אני מחלץ את רשימת סוגי ההתקפות ומכניס אותם לתוך עמודה מסודרת\n",
    "attack_types = []\n",
    "for attack in attack_type_list:\n",
    "    attack_types.append(global_terror[attack])"
   ],
   "id": "b010c025f315128b",
   "outputs": [],
   "execution_count": 70
  },
  {
   "metadata": {
    "ExecuteTime": {
     "end_time": "2024-12-18T15:00:35.659633Z",
     "start_time": "2024-12-18T15:00:35.618530Z"
    }
   },
   "cell_type": "code",
   "source": "attack_types",
   "id": "ee4bc103721c149",
   "outputs": [
    {
     "data": {
      "text/plain": [
       "[0      1\n",
       " 1      6\n",
       " 2      1\n",
       " 3      3\n",
       " 4      7\n",
       "       ..\n",
       " 995    3\n",
       " 996    1\n",
       " 997    1\n",
       " 998    3\n",
       " 999    7\n",
       " Name: attacktype1, Length: 1000, dtype: int64,\n",
       " 0                       Assassination\n",
       " 1         Hostage Taking (Kidnapping)\n",
       " 2                       Assassination\n",
       " 3                   Bombing/Explosion\n",
       " 4      Facility/Infrastructure Attack\n",
       "                     ...              \n",
       " 995                 Bombing/Explosion\n",
       " 996                     Assassination\n",
       " 997                     Assassination\n",
       " 998                 Bombing/Explosion\n",
       " 999    Facility/Infrastructure Attack\n",
       " Name: attacktype1_txt, Length: 1000, dtype: object,\n",
       " 0     NaN\n",
       " 1     NaN\n",
       " 2     NaN\n",
       " 3     NaN\n",
       " 4     NaN\n",
       "        ..\n",
       " 995   NaN\n",
       " 996   NaN\n",
       " 997   NaN\n",
       " 998   NaN\n",
       " 999   NaN\n",
       " Name: attacktype2, Length: 1000, dtype: float64,\n",
       " 0      NaN\n",
       " 1      NaN\n",
       " 2      NaN\n",
       " 3      NaN\n",
       " 4      NaN\n",
       "       ... \n",
       " 995    NaN\n",
       " 996    NaN\n",
       " 997    NaN\n",
       " 998    NaN\n",
       " 999    NaN\n",
       " Name: attacktype2_txt, Length: 1000, dtype: object,\n",
       " 0     NaN\n",
       " 1     NaN\n",
       " 2     NaN\n",
       " 3     NaN\n",
       " 4     NaN\n",
       "        ..\n",
       " 995   NaN\n",
       " 996   NaN\n",
       " 997   NaN\n",
       " 998   NaN\n",
       " 999   NaN\n",
       " Name: attacktype3, Length: 1000, dtype: float64,\n",
       " 0     NaN\n",
       " 1     NaN\n",
       " 2     NaN\n",
       " 3     NaN\n",
       " 4     NaN\n",
       "        ..\n",
       " 995   NaN\n",
       " 996   NaN\n",
       " 997   NaN\n",
       " 998   NaN\n",
       " 999   NaN\n",
       " Name: attacktype3_txt, Length: 1000, dtype: float64]"
      ]
     },
     "execution_count": 71,
     "metadata": {},
     "output_type": "execute_result"
    }
   ],
   "execution_count": 71
  },
  {
   "metadata": {
    "ExecuteTime": {
     "end_time": "2024-12-18T13:59:33.338067Z",
     "start_time": "2024-12-18T13:59:33.333920Z"
    }
   },
   "cell_type": "code",
   "source": "",
   "id": "7552bed62ea915d0",
   "outputs": [],
   "execution_count": null
  }
 ],
 "metadata": {
  "kernelspec": {
   "display_name": "Python 3",
   "language": "python",
   "name": "python3"
  },
  "language_info": {
   "codemirror_mode": {
    "name": "ipython",
    "version": 2
   },
   "file_extension": ".py",
   "mimetype": "text/x-python",
   "name": "python",
   "nbconvert_exporter": "python",
   "pygments_lexer": "ipython2",
   "version": "2.7.6"
  }
 },
 "nbformat": 4,
 "nbformat_minor": 5
}
