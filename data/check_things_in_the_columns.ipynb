{
 "cells": [
  {
   "cell_type": "code",
   "id": "initial_id",
   "metadata": {
    "collapsed": true,
    "ExecuteTime": {
     "end_time": "2024-12-18T14:41:22.043883Z",
     "start_time": "2024-12-18T14:41:22.035742Z"
    }
   },
   "source": "colum = \"eventid\tiyear\timonth\tiday\tapproxdate\textended\tresolution\tcountry\tcountry_txt\tregion\tregion_txt\tprovstate\tcity\tlatitude\tlongitude\tspecificity\tvicinity\tlocation\tsummary\tcrit1\tcrit2\tcrit3\tdoubtterr\talternative\talternative_txt\tmultiple\tsuccess\tsuicide\tattacktype1\tattacktype1_txt\tattacktype2\tattacktype2_txt\tattacktype3\tattacktype3_txt\ttargtype1\ttargtype1_txt\ttargsubtype1\ttargsubtype1_txt\tcorp1\ttarget1\tnatlty1\tnatlty1_txt\ttargtype2\ttargtype2_txt\ttargsubtype2\ttargsubtype2_txt\tcorp2\ttarget2\tnatlty2\tnatlty2_txt\ttargtype3\ttargtype3_txt\ttargsubtype3\ttargsubtype3_txt\tcorp3\ttarget3\tnatlty3\tnatlty3_txt\tgname\tgsubname\tgname2\tgsubname2\tgname3\tgsubname3\tmotive\tguncertain1\tguncertain2\tguncertain3\tindividual\tnperps\tnperpcap\tclaimed\tclaimmode\tclaimmode_txt\tclaim2\tclaimmode2\tclaimmode2_txt\tclaim3\tclaimmode3\tclaimmode3_txt\tcompclaim\tweaptype1\tweaptype1_txt\tweapsubtype1\tweapsubtype1_txt\tweaptype2\tweaptype2_txt\tweapsubtype2\tweapsubtype2_txt\tweaptype3\tweaptype3_txt\tweapsubtype3\tweapsubtype3_txt\tweaptype4\tweaptype4_txt\tweapsubtype4\tweapsubtype4_txt\tweapdetail\tnkill\tnkillus\tnkillter\tnwound\tnwoundus\tnwoundte\tproperty\tpropextent\tpropextent_txt\tpropvalue\tpropcomment\tishostkid\tnhostkid\tnhostkidus\tnhours\tndays\tdivert\tkidhijcountry\transom\transomamt\transomamtus\transompaid\transompaidus\transomnote\thostkidoutcome\thostkidoutcome_txt\tnreleased\taddnotes\tscite1\tscite2\tscite3\tdbsource\tINT_LOG\tINT_IDEO\tINT_MISC\tINT_ANY\trelated\"",
   "outputs": [],
   "execution_count": 1
  },
  {
   "metadata": {
    "ExecuteTime": {
     "end_time": "2024-12-18T14:41:36.085273Z",
     "start_time": "2024-12-18T14:41:36.078751Z"
    }
   },
   "cell_type": "code",
   "source": "colum = colum.split()",
   "id": "a602a1366e84c378",
   "outputs": [],
   "execution_count": 2
  },
  {
   "metadata": {
    "ExecuteTime": {
     "end_time": "2024-12-18T14:41:41.116008Z",
     "start_time": "2024-12-18T14:41:41.104485Z"
    }
   },
   "cell_type": "code",
   "source": "colum",
   "id": "b2aa9269358b8d83",
   "outputs": [
    {
     "data": {
      "text/plain": [
       "['eventid',\n",
       " 'iyear',\n",
       " 'imonth',\n",
       " 'iday',\n",
       " 'approxdate',\n",
       " 'extended',\n",
       " 'resolution',\n",
       " 'country',\n",
       " 'country_txt',\n",
       " 'region',\n",
       " 'region_txt',\n",
       " 'provstate',\n",
       " 'city',\n",
       " 'latitude',\n",
       " 'longitude',\n",
       " 'specificity',\n",
       " 'vicinity',\n",
       " 'location',\n",
       " 'summary',\n",
       " 'crit1',\n",
       " 'crit2',\n",
       " 'crit3',\n",
       " 'doubtterr',\n",
       " 'alternative',\n",
       " 'alternative_txt',\n",
       " 'multiple',\n",
       " 'success',\n",
       " 'suicide',\n",
       " 'attacktype1',\n",
       " 'attacktype1_txt',\n",
       " 'attacktype2',\n",
       " 'attacktype2_txt',\n",
       " 'attacktype3',\n",
       " 'attacktype3_txt',\n",
       " 'targtype1',\n",
       " 'targtype1_txt',\n",
       " 'targsubtype1',\n",
       " 'targsubtype1_txt',\n",
       " 'corp1',\n",
       " 'target1',\n",
       " 'natlty1',\n",
       " 'natlty1_txt',\n",
       " 'targtype2',\n",
       " 'targtype2_txt',\n",
       " 'targsubtype2',\n",
       " 'targsubtype2_txt',\n",
       " 'corp2',\n",
       " 'target2',\n",
       " 'natlty2',\n",
       " 'natlty2_txt',\n",
       " 'targtype3',\n",
       " 'targtype3_txt',\n",
       " 'targsubtype3',\n",
       " 'targsubtype3_txt',\n",
       " 'corp3',\n",
       " 'target3',\n",
       " 'natlty3',\n",
       " 'natlty3_txt',\n",
       " 'gname',\n",
       " 'gsubname',\n",
       " 'gname2',\n",
       " 'gsubname2',\n",
       " 'gname3',\n",
       " 'gsubname3',\n",
       " 'motive',\n",
       " 'guncertain1',\n",
       " 'guncertain2',\n",
       " 'guncertain3',\n",
       " 'individual',\n",
       " 'nperps',\n",
       " 'nperpcap',\n",
       " 'claimed',\n",
       " 'claimmode',\n",
       " 'claimmode_txt',\n",
       " 'claim2',\n",
       " 'claimmode2',\n",
       " 'claimmode2_txt',\n",
       " 'claim3',\n",
       " 'claimmode3',\n",
       " 'claimmode3_txt',\n",
       " 'compclaim',\n",
       " 'weaptype1',\n",
       " 'weaptype1_txt',\n",
       " 'weapsubtype1',\n",
       " 'weapsubtype1_txt',\n",
       " 'weaptype2',\n",
       " 'weaptype2_txt',\n",
       " 'weapsubtype2',\n",
       " 'weapsubtype2_txt',\n",
       " 'weaptype3',\n",
       " 'weaptype3_txt',\n",
       " 'weapsubtype3',\n",
       " 'weapsubtype3_txt',\n",
       " 'weaptype4',\n",
       " 'weaptype4_txt',\n",
       " 'weapsubtype4',\n",
       " 'weapsubtype4_txt',\n",
       " 'weapdetail',\n",
       " 'nkill',\n",
       " 'nkillus',\n",
       " 'nkillter',\n",
       " 'nwound',\n",
       " 'nwoundus',\n",
       " 'nwoundte',\n",
       " 'property',\n",
       " 'propextent',\n",
       " 'propextent_txt',\n",
       " 'propvalue',\n",
       " 'propcomment',\n",
       " 'ishostkid',\n",
       " 'nhostkid',\n",
       " 'nhostkidus',\n",
       " 'nhours',\n",
       " 'ndays',\n",
       " 'divert',\n",
       " 'kidhijcountry',\n",
       " 'ransom',\n",
       " 'ransomamt',\n",
       " 'ransomamtus',\n",
       " 'ransompaid',\n",
       " 'ransompaidus',\n",
       " 'ransomnote',\n",
       " 'hostkidoutcome',\n",
       " 'hostkidoutcome_txt',\n",
       " 'nreleased',\n",
       " 'addnotes',\n",
       " 'scite1',\n",
       " 'scite2',\n",
       " 'scite3',\n",
       " 'dbsource',\n",
       " 'INT_LOG',\n",
       " 'INT_IDEO',\n",
       " 'INT_MISC',\n",
       " 'INT_ANY',\n",
       " 'related']"
      ]
     },
     "execution_count": 3,
     "metadata": {},
     "output_type": "execute_result"
    }
   ],
   "execution_count": 3
  },
  {
   "metadata": {
    "ExecuteTime": {
     "end_time": "2024-12-18T14:42:03.738090Z",
     "start_time": "2024-12-18T14:42:03.730187Z"
    }
   },
   "cell_type": "code",
   "source": [
    "for c in colum:\n",
    "    print(c)"
   ],
   "id": "e04772306ac8093b",
   "outputs": [
    {
     "name": "stdout",
     "output_type": "stream",
     "text": [
      "eventid\n",
      "iyear\n",
      "imonth\n",
      "iday\n",
      "approxdate\n",
      "extended\n",
      "resolution\n",
      "country\n",
      "country_txt\n",
      "region\n",
      "region_txt\n",
      "provstate\n",
      "city\n",
      "latitude\n",
      "longitude\n",
      "specificity\n",
      "vicinity\n",
      "location\n",
      "summary\n",
      "crit1\n",
      "crit2\n",
      "crit3\n",
      "doubtterr\n",
      "alternative\n",
      "alternative_txt\n",
      "multiple\n",
      "success\n",
      "suicide\n",
      "attacktype1\n",
      "attacktype1_txt\n",
      "attacktype2\n",
      "attacktype2_txt\n",
      "attacktype3\n",
      "attacktype3_txt\n",
      "targtype1\n",
      "targtype1_txt\n",
      "targsubtype1\n",
      "targsubtype1_txt\n",
      "corp1\n",
      "target1\n",
      "natlty1\n",
      "natlty1_txt\n",
      "targtype2\n",
      "targtype2_txt\n",
      "targsubtype2\n",
      "targsubtype2_txt\n",
      "corp2\n",
      "target2\n",
      "natlty2\n",
      "natlty2_txt\n",
      "targtype3\n",
      "targtype3_txt\n",
      "targsubtype3\n",
      "targsubtype3_txt\n",
      "corp3\n",
      "target3\n",
      "natlty3\n",
      "natlty3_txt\n",
      "gname\n",
      "gsubname\n",
      "gname2\n",
      "gsubname2\n",
      "gname3\n",
      "gsubname3\n",
      "motive\n",
      "guncertain1\n",
      "guncertain2\n",
      "guncertain3\n",
      "individual\n",
      "nperps\n",
      "nperpcap\n",
      "claimed\n",
      "claimmode\n",
      "claimmode_txt\n",
      "claim2\n",
      "claimmode2\n",
      "claimmode2_txt\n",
      "claim3\n",
      "claimmode3\n",
      "claimmode3_txt\n",
      "compclaim\n",
      "weaptype1\n",
      "weaptype1_txt\n",
      "weapsubtype1\n",
      "weapsubtype1_txt\n",
      "weaptype2\n",
      "weaptype2_txt\n",
      "weapsubtype2\n",
      "weapsubtype2_txt\n",
      "weaptype3\n",
      "weaptype3_txt\n",
      "weapsubtype3\n",
      "weapsubtype3_txt\n",
      "weaptype4\n",
      "weaptype4_txt\n",
      "weapsubtype4\n",
      "weapsubtype4_txt\n",
      "weapdetail\n",
      "nkill\n",
      "nkillus\n",
      "nkillter\n",
      "nwound\n",
      "nwoundus\n",
      "nwoundte\n",
      "property\n",
      "propextent\n",
      "propextent_txt\n",
      "propvalue\n",
      "propcomment\n",
      "ishostkid\n",
      "nhostkid\n",
      "nhostkidus\n",
      "nhours\n",
      "ndays\n",
      "divert\n",
      "kidhijcountry\n",
      "ransom\n",
      "ransomamt\n",
      "ransomamtus\n",
      "ransompaid\n",
      "ransompaidus\n",
      "ransomnote\n",
      "hostkidoutcome\n",
      "hostkidoutcome_txt\n",
      "nreleased\n",
      "addnotes\n",
      "scite1\n",
      "scite2\n",
      "scite3\n",
      "dbsource\n",
      "INT_LOG\n",
      "INT_IDEO\n",
      "INT_MISC\n",
      "INT_ANY\n",
      "related\n"
     ]
    }
   ],
   "execution_count": 4
  },
  {
   "metadata": {
    "ExecuteTime": {
     "end_time": "2024-12-18T15:09:29.203565Z",
     "start_time": "2024-12-18T15:09:29.194375Z"
    }
   },
   "cell_type": "code",
   "source": [
    "counter = 0\n",
    "for c in colum:\n",
    "    if c.lower() == \"casualties\":\n",
    "        counter += 1\n",
    "print(counter)"
   ],
   "id": "c2607d699b13ff4b",
   "outputs": [
    {
     "name": "stdout",
     "output_type": "stream",
     "text": [
      "0\n"
     ]
    }
   ],
   "execution_count": 14
  },
  {
   "metadata": {
    "ExecuteTime": {
     "end_time": "2024-12-18T14:52:10.565529Z",
     "start_time": "2024-12-18T14:52:10.499041Z"
    }
   },
   "cell_type": "code",
   "source": "attack_type = \"attacktype1\tattacktype1_txt\tattacktype2\tattacktype2_txt\tattacktype3\tattacktype3_txt\"",
   "id": "ca1c10b347b1df8f",
   "outputs": [],
   "execution_count": 6
  },
  {
   "metadata": {
    "ExecuteTime": {
     "end_time": "2024-12-18T14:52:22.618825Z",
     "start_time": "2024-12-18T14:52:22.611150Z"
    }
   },
   "cell_type": "code",
   "source": "attack_type_liost = attack_type.split()",
   "id": "43353f08c90cb399",
   "outputs": [],
   "execution_count": 7
  },
  {
   "metadata": {
    "ExecuteTime": {
     "end_time": "2024-12-18T14:52:31.661599Z",
     "start_time": "2024-12-18T14:52:31.622477Z"
    }
   },
   "cell_type": "code",
   "source": "len(attack_type)",
   "id": "675cd906f9a12c11",
   "outputs": [
    {
     "data": {
      "text/plain": [
       "6"
      ]
     },
     "execution_count": 8,
     "metadata": {},
     "output_type": "execute_result"
    }
   ],
   "execution_count": 8
  }
 ],
 "metadata": {
  "kernelspec": {
   "display_name": "Python 3",
   "language": "python",
   "name": "python3"
  },
  "language_info": {
   "codemirror_mode": {
    "name": "ipython",
    "version": 2
   },
   "file_extension": ".py",
   "mimetype": "text/x-python",
   "name": "python",
   "nbconvert_exporter": "python",
   "pygments_lexer": "ipython2",
   "version": "2.7.6"
  }
 },
 "nbformat": 4,
 "nbformat_minor": 5
}
